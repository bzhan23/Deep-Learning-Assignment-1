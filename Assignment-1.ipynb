{
 "cells": [
  {
   "cell_type": "code",
   "execution_count": 406,
   "id": "17267d10",
   "metadata": {},
   "outputs": [],
   "source": [
    "import numpy as np\n",
    "import pandas as pd\n",
    "from sklearn.metrics import accuracy_score\n",
    "from sklearn.linear_model import Perceptron\n",
    "from sklearn.model_selection import train_test_split\n",
    "from sklearn.datasets import load_svmlight_file\n",
    "\n",
    "# load data\n",
    "data = pd.read_csv('diabetes_scale.txt', header = None, sep = \" \")\n",
    "\n",
    "# get X from data\n",
    "X_data = data.iloc[:, 1:-1].values\n",
    "X = []\n",
    "for i in range(len(X_data)):\n",
    "    X_item = []\n",
    "    for j in range(len(X_data[i])):\n",
    "        if type(X_data[i][j]) != float:\n",
    "            X_item.append(float(X_data[i][j][2:]))\n",
    "        else:\n",
    "            X_item.append(0)\n",
    "    X.append(X_item)\n",
    "X = np.array(X)\n",
    "\n",
    "# get y from data\n",
    "y = data.iloc[:,0].values\n",
    "\n",
    "# split to train and test\n",
    "X_train, X_test, y_train, y_test = train_test_split(X, y, test_size = 0.2, random_state = 0)\n",
    "\n",
    "\n",
    "class MyPerceptron:\n",
    "    \n",
    "    def __init__(self, learning_rate = 0.1, num_epochs = 1000):\n",
    "        self.learning_rate = learning_rate\n",
    "        self.num_epochs = num_epochs\n",
    "        self.weights = None\n",
    "        self.bias = None\n",
    "    \n",
    "    def stepFunction(self, t):\n",
    "        if t >= 0:\n",
    "            return 1\n",
    "        else:\n",
    "            return -1\n",
    "    \n",
    "    # update weights and bias based on the final value\n",
    "    def perceptronStep(self, X, y):\n",
    "        self.weights = np.zeros(X.shape[1])\n",
    "        self.bias = 0\n",
    "        \n",
    "        for epoch in range(self.num_epochs):\n",
    "            \n",
    "            for i in range(X.shape[0]):\n",
    "                y_pred = self.stepFunction(np.dot(self.weights, X[i]) + self.bias)\n",
    "                \n",
    "                if y_pred - y[i] == 2:\n",
    "                    self.weights -= self.learning_rate * X[i]\n",
    "                    self.bias -= self.learning_rate\n",
    "                elif y_pred - y[i] == -2:\n",
    "                    self.weights += self.learning_rate * X[i]\n",
    "                    self.bias += self.learning_rate \n",
    "\n",
    "        print('Training Completed!\\n')\n",
    "        print(f'The weights are {self.weights}\\n')\n",
    "        print(f'The bias is {self.bias}\\n')\n",
    "    \n",
    "    # predict with weights and bias learned\n",
    "    def predict(self, X):\n",
    "        y_pred = []\n",
    "        \n",
    "        for i in range(X.shape[0]):\n",
    "            y_pred.append(self.stepFunction(np.dot(self.weights, X[i]) + self.bias))\n",
    "    \n",
    "        return np.array(y_pred)\n",
    "    \n"
   ]
  },
  {
   "cell_type": "code",
   "execution_count": 407,
   "id": "397a2b40",
   "metadata": {},
   "outputs": [
    {
     "name": "stdout",
     "output_type": "stream",
     "text": [
      "Training Completed!\n",
      "\n",
      "The weights are [-0.27044515 -0.39553833  0.04260622 -0.08288445  0.229302   -0.22674394\n",
      " -0.35611877 -0.07707391]\n",
      "\n",
      "The bias is -2.7755575615628914e-17\n",
      "\n",
      "The accuracy is 0.7727272727272727\n"
     ]
    }
   ],
   "source": [
    "clf = MyPerceptron()\n",
    "clf.perceptronStep(X_train, y_train)\n",
    "\n",
    "y_pred = clf.predict(X_test)\n",
    "\n",
    "print(f'The accuracy is {accuracy_score(y_test, y_pred)}')"
   ]
  }
 ],
 "metadata": {
  "kernelspec": {
   "display_name": "Python 3 (ipykernel)",
   "language": "python",
   "name": "python3"
  },
  "language_info": {
   "codemirror_mode": {
    "name": "ipython",
    "version": 3
   },
   "file_extension": ".py",
   "mimetype": "text/x-python",
   "name": "python",
   "nbconvert_exporter": "python",
   "pygments_lexer": "ipython3",
   "version": "3.9.7"
  }
 },
 "nbformat": 4,
 "nbformat_minor": 5
}
